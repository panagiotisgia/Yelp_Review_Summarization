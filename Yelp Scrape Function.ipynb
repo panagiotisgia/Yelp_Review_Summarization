{
 "cells": [
  {
   "cell_type": "code",
   "execution_count": 1,
   "id": "ee1b386e",
   "metadata": {},
   "outputs": [],
   "source": [
    "from selenium import webdriver\n",
    "from selenium.webdriver.support.ui import WebDriverWait\n",
    "from selenium.webdriver.support import expected_conditions as EC\n",
    "from selenium.webdriver.common.by import By\n",
    "from selenium.webdriver.common.keys import Keys\n",
    "import time, csv\n",
    "from selenium.common.exceptions import NoSuchElementException\n",
    "from selenium.webdriver.chrome.service import Service\n",
    "from webdriver_manager.chrome import ChromeDriverManager\n",
    "from selenium.webdriver.support.relative_locator import locate_with"
   ]
  },
  {
   "attachments": {},
   "cell_type": "markdown",
   "id": "86a259b9",
   "metadata": {},
   "source": [
    "## Scrape Function"
   ]
  },
  {
   "cell_type": "code",
   "execution_count": 5,
   "id": "637715a0",
   "metadata": {},
   "outputs": [],
   "source": [
    "def scrape(food,city):\n",
    "\n",
    "    # Go to Yelp.com and accept cookies\n",
    "    page_url = 'https://www.yelp.com'\n",
    "    driver.get(page_url)\n",
    "    cookies = WebDriverWait(driver,5).until(EC.element_to_be_clickable((By.ID, 'onetrust-accept-btn-handler'))).click()\n",
    "\n",
    "    # Find search text box\n",
    "    description = driver.find_element(By.ID, 'search_description') \n",
    "    location = driver.find_element(By.ID, 'search_location') \n",
    "\n",
    "    # Delete any initial input\n",
    "    description.send_keys(Keys.CONTROL, 'a')\n",
    "    description.send_keys(Keys.DELETE)\n",
    "    location.send_keys(Keys.CONTROL, 'a')\n",
    "    location.send_keys(Keys.DELETE)\n",
    "\n",
    "    # Send user input in search box\n",
    "    description.send_keys(food)\n",
    "    location.send_keys(city)\n",
    "\n",
    "    # Click search button\n",
    "    button = driver.find_element(By.CSS_SELECTOR, '[data-testid=\"suggest-submit\"]') \n",
    "    button.click()                         \n",
    "    driver.implicitly_wait(10)\n",
    "    \n",
    "    # Check if the input was correct    \n",
    "    not_valid_imput = driver.find_element(By.CSS_SELECTOR, '[class=\"css-oxqmph\"]') \n",
    "\n",
    "    substring1 = \"No results\"\n",
    "    substring2 = \"Sorry\"\n",
    "     \n",
    "    if substring1 in not_valid_imput.text:\n",
    "        print(\"No results for:\", food, city)\n",
    "        \n",
    "    elif substring2 in not_valid_imput.text:\n",
    "        print(\"Sorry, but we didn't understand the location you entered.\")\n",
    "    \n",
    "    # If the imput is correct find and click the 1st result\n",
    "    else:           \n",
    "        restaurants = driver.find_elements(By.CSS_SELECTOR, 'h3.css-1agk4wl span.css-1egxyvc')\n",
    "        addresses = driver.find_elements(By.CSS_SELECTOR, 'p.css-dzq7l1 span.css-chan6m')\n",
    "    \n",
    "        print(\"The proposed restaurants are: \")\n",
    "        print()\n",
    "    \n",
    "        first_result = []\n",
    "        for i in range(len(restaurants)):\n",
    "            rest_text = []\n",
    "            rest_text.append(restaurants[i].text)\n",
    "            rest_text.append(addresses[i].text)\n",
    "            print(rest_text)\n",
    "\n",
    "            if rest_text[0][0:2] == '1.':   # We use 1. to exlude 10 value\n",
    "                restaurants[i].click()      # Click the restaurant\n",
    "                first_result.append(restaurants[i].text) # Keep the reviewed restaurant     \n",
    "                first_result.append(addresses[i].text)\n",
    "                \n",
    "        print()\n",
    "        print(\"The reviewed restaurant is:  \", first_result)\n",
    "\n",
    "        # Because the restaurant open in a new tab we must change tab\n",
    "        original_window = driver.current_window_handle\n",
    "        for window_handle in driver.window_handles:\n",
    "            if window_handle != original_window:\n",
    "                driver.switch_to.window(window_handle)\n",
    "                break\n",
    "\n",
    "        # Name of the restaurant (2nd tab)       \n",
    "        restaurant_name = driver.find_element(By.CSS_SELECTOR, 'h1.css-1se8maq').text\n",
    "        \n",
    "        # Open a csv writer for metadata\n",
    "        outpath = f'data/metadata.csv'\n",
    "        f = open(outpath, 'w', encoding = 'utf8')\n",
    "        writer = csv.writer(f, lineterminator='\\n')\n",
    "        writer.writerow(['food','city','rest_name','rest_location'])\n",
    "        writer.writerow([food, city, restaurant_name, first_result[1]])\n",
    "        f.close\n",
    "        \n",
    "        # Open a new csv writer for data reviews\n",
    "        outpath = f'data/yelp_reviews_{food}_{city}.csv'\n",
    "        f = open(outpath, 'w', encoding = 'utf8')\n",
    "        writer = csv.writer(f, lineterminator='\\n')\n",
    "        writer.writerow(['date','rating','review'])\n",
    "\n",
    "        # In the restaurant's tab\n",
    "        while True:\n",
    "             \n",
    "            # Scroll down    \n",
    "            driver.execute_script('window,scrollTo(0,document.body.scrollHeight)')  \n",
    "                \n",
    "            # Elements used for location help\n",
    "            navigation_bar = driver.find_element(By.CSS_SELECTOR, '[class=\" pagination__09f24__VRjN4 border-color--default__09f24__NPAKY\"]')\n",
    "            filter_bar = driver.find_element(By.CSS_SELECTOR, '[class=\" arrange__09f24__LDfbs gutter-auto__09f24__W9jlL grid__09f24__S5_aJ vertical-align-bottom__09f24__A9C03 border-color--default__09f24__NPAKY\"]')\n",
    "\n",
    "            # Dates, Ratings, Reviews elements \n",
    "            dates = driver.find_elements(locate_with(By.CSS_SELECTOR, 'span.css-chan6m').above(navigation_bar).below(filter_bar))\n",
    "            ratings = driver.find_elements(locate_with(By.CSS_SELECTOR, '[class=\" five-stars__09f24__mBKym five-stars--regular__09f24__DgBNj display--inline-block__09f24__fEDiJ border-color--default__09f24__NPAKY\"]').above(navigation_bar).below(filter_bar))\n",
    "            reviews = driver.find_elements(locate_with(By.CSS_SELECTOR, 'span.raw__09f24__T4Ezm').above(navigation_bar).below(filter_bar))\n",
    "\n",
    "            # Write to csv\n",
    "            for i in range(len(reviews)):\n",
    "                date = dates[i].text\n",
    "                rating = ratings[i].get_attribute('aria-label')\n",
    "                review = reviews[i].text.replace('\\n\\n',\" \").replace('\\n',\" \")   \n",
    "                writer.writerow([date, rating, review])\n",
    "                       \n",
    "            # Checking for last page in reviews\n",
    "            try:\n",
    "                next_button_check = driver.find_element(By.CSS_SELECTOR, '[class=\"icon--24-chevron-right-v2 navigation-button-icon__09f24__Bmrde navigation-button-icon--disabled__09f24__z98Q4 css-1lx34my\"]'  )\n",
    "                last_page = True\n",
    "            except NoSuchElementException:\n",
    "                last_page = False\n",
    "\n",
    "            if last_page:\n",
    "                break\n",
    "  \n",
    "            # Click on next page in reviews\n",
    "            next_button = driver.find_element(By.CSS_SELECTOR, '[class=\"next-link navigation-button__09f24__m9qRz css-144i0wq\"]')\n",
    "            next_button.click()    \n",
    "            time.sleep(3)\n",
    "\n",
    "        f.close \n",
    "        \n",
    "        print()\n",
    "        print(\"The scrapping results are in: \", outpath)"
   ]
  },
  {
   "attachments": {},
   "cell_type": "markdown",
   "id": "b335ad65",
   "metadata": {},
   "source": [
    "## Scrape Dataset"
   ]
  },
  {
   "cell_type": "code",
   "execution_count": 6,
   "id": "2737970c",
   "metadata": {
    "scrolled": false
   },
   "outputs": [
    {
     "name": "stderr",
     "output_type": "stream",
     "text": [
      "C:\\Users\\panag\\AppData\\Local\\Temp/ipykernel_13076/1503906442.py:1: DeprecationWarning: executable_path has been deprecated, please pass in a Service object\n",
      "  driver = webdriver.Chrome(ChromeDriverManager().install())\n"
     ]
    }
   ],
   "source": [
    "driver = webdriver.Chrome(ChromeDriverManager().install())"
   ]
  },
  {
   "cell_type": "code",
   "execution_count": 7,
   "id": "8012d6bd",
   "metadata": {},
   "outputs": [
    {
     "name": "stdout",
     "output_type": "stream",
     "text": [
      "The proposed restaurants are: \n",
      "\n",
      "['1. Dishoom', 'Covent Garden']\n",
      "['2. Dishoom', 'Soho']\n",
      "['3. Gymkhana', 'Mayfair']\n",
      "['4. Tamarind Kitchen', 'Soho']\n",
      "['5. Punjab Restaurant', 'Covent Garden']\n",
      "['6. Roti Chai', 'Marylebone']\n",
      "['7. The Rajdoot', 'Marylebone']\n",
      "['8. Trishna', 'Marylebone']\n",
      "['9. Shah Tandoori', 'Euston']\n",
      "['10. Dishoom - Kensington', 'Kensington']\n",
      "\n",
      "The reviewed restaurant is:   ['1. Dishoom', 'Covent Garden']\n",
      "\n",
      "The scrapping results are in:  yelp_reviews_Indian Food_London.csv\n"
     ]
    }
   ],
   "source": [
    "scrape('Indian Food','London')"
   ]
  }
 ],
 "metadata": {
  "kernelspec": {
   "display_name": "Python 3 (ipykernel)",
   "language": "python",
   "name": "python3"
  },
  "language_info": {
   "codemirror_mode": {
    "name": "ipython",
    "version": 3
   },
   "file_extension": ".py",
   "mimetype": "text/x-python",
   "name": "python",
   "nbconvert_exporter": "python",
   "pygments_lexer": "ipython3",
   "version": "3.8.12"
  }
 },
 "nbformat": 4,
 "nbformat_minor": 5
}
